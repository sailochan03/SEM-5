{
 "cells": [
  {
   "cell_type": "code",
   "execution_count": 6,
   "id": "41bfca5b-c237-4052-aaba-75cc1b890c67",
   "metadata": {},
   "outputs": [
    {
     "name": "stdin",
     "output_type": "stream",
     "text": [
      "Enter the word to translate:  Cat\n"
     ]
    },
    {
     "name": "stdout",
     "output_type": "stream",
     "text": [
      "cat in french is chat.\n"
     ]
    }
   ],
   "source": [
    "e2f = {\"dog\" : \"chien\", \"cat\" : \"chat\", \"walrus\" : \"morse\"}\n",
    "\n",
    "word_search = input(\"Enter the word to translate: \")\n",
    "word_search = word_search.lower()\n",
    "if word_search in e2f:\n",
    "    print(f\"{word_search} in french is {e2f[word_search]}.\")\n",
    "else:\n",
    "    print(\"Word not found in Dictonary.\")\n",
    "    "
   ]
  },
  {
   "cell_type": "code",
   "execution_count": null,
   "id": "f3e9cce1-0df7-4501-8335-38670760f1a7",
   "metadata": {},
   "outputs": [],
   "source": []
  }
 ],
 "metadata": {
  "kernelspec": {
   "display_name": "Python 3 (ipykernel)",
   "language": "python",
   "name": "python3"
  },
  "language_info": {
   "codemirror_mode": {
    "name": "ipython",
    "version": 3
   },
   "file_extension": ".py",
   "mimetype": "text/x-python",
   "name": "python",
   "nbconvert_exporter": "python",
   "pygments_lexer": "ipython3",
   "version": "3.12.4"
  }
 },
 "nbformat": 4,
 "nbformat_minor": 5
}
