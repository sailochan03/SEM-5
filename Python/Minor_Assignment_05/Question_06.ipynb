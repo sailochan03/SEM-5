{
 "cells": [
  {
   "cell_type": "code",
   "execution_count": 9,
   "id": "ae3bf4f0-0cc2-43e0-8eae-e4593adf3093",
   "metadata": {},
   "outputs": [
    {
     "name": "stdout",
     "output_type": "stream",
     "text": [
      "Keys list: [dict_keys(['I', 'II', 'III', 'V'])]\n",
      "Values list: [dict_values([1, 2, 3, 5])]\n",
      "Items list: [dict_items([('I', 1), ('II', 2), ('III', 3), ('V', 5)])]\n"
     ]
    }
   ],
   "source": [
    "roman_numerals = {'I':1, 'II':2, 'III':3, 'V':5}\n",
    "\n",
    "keys_list = [roman_numerals.keys()]\n",
    "values_list = [roman_numerals.values()]\n",
    "items_list = [roman_numerals.items()]\n",
    "\n",
    "print(\"Keys list:\", keys_list)\n",
    "print(\"Values list:\", values_list)\n",
    "print(\"Items list:\", items_list)"
   ]
  }
 ],
 "metadata": {
  "kernelspec": {
   "display_name": "Python 3 (ipykernel)",
   "language": "python",
   "name": "python3"
  },
  "language_info": {
   "codemirror_mode": {
    "name": "ipython",
    "version": 3
   },
   "file_extension": ".py",
   "mimetype": "text/x-python",
   "name": "python",
   "nbconvert_exporter": "python",
   "pygments_lexer": "ipython3",
   "version": "3.12.4"
  }
 },
 "nbformat": 4,
 "nbformat_minor": 5
}
