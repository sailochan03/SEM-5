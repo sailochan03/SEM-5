{
 "cells": [
  {
   "cell_type": "code",
   "execution_count": 3,
   "id": "eda77bdd-9efd-4b2f-b1a0-57acc5bf2933",
   "metadata": {},
   "outputs": [
    {
     "name": "stdin",
     "output_type": "stream",
     "text": [
      "Enter total students:  3\n"
     ]
    },
    {
     "name": "stdout",
     "output_type": "stream",
     "text": [
      "\n",
      "Enter data for student 1:\n"
     ]
    },
    {
     "name": "stdin",
     "output_type": "stream",
     "text": [
      "Enter name of student:  student 1\n",
      "Enter prcentage:  45\n"
     ]
    },
    {
     "name": "stdout",
     "output_type": "stream",
     "text": [
      "\n",
      "Enter data for student 2:\n"
     ]
    },
    {
     "name": "stdin",
     "output_type": "stream",
     "text": [
      "Enter name of student:  student 2\n",
      "Enter prcentage:  60\n"
     ]
    },
    {
     "name": "stdout",
     "output_type": "stream",
     "text": [
      "\n",
      "Enter data for student 3:\n"
     ]
    },
    {
     "name": "stdin",
     "output_type": "stream",
     "text": [
      "Enter name of student:  student 3\n",
      "Enter prcentage:  80\n"
     ]
    },
    {
     "name": "stdout",
     "output_type": "stream",
     "text": [
      "==== Student Results ====\n",
      "NAME\tPERCENTAGE\n",
      "student 1\t45.0%\n",
      "student 2\t60.0%\n",
      "student 3\t80.0%\n"
     ]
    }
   ],
   "source": [
    "dict = {}\n",
    "\n",
    "size = int(input(\"Enter total students: \"))\n",
    "count = 1\n",
    "for _ in range(size):\n",
    "    print(f\"\\nEnter data for student {count}:\")\n",
    "    name = input(\"Enter name of student: \")\n",
    "    percentage = float(input(\"Enter percentage: \"))\n",
    "    dict[name] = percentage\n",
    "    count += 1\n",
    "\n",
    "print(\"==== Student Results ====\")\n",
    "print(\"NAME\\tPERCENTAGE\")\n",
    "for name, percentage in dict.items():\n",
    "    print(f\"{name}\\t{percentage}%\")\n",
    "    "
   ]
  },
  {
   "cell_type": "code",
   "execution_count": null,
   "id": "1e986655-25fe-4106-8904-00e8e7dd575c",
   "metadata": {},
   "outputs": [],
   "source": []
  }
 ],
 "metadata": {
  "kernelspec": {
   "display_name": "Python 3 (ipykernel)",
   "language": "python",
   "name": "python3"
  },
  "language_info": {
   "codemirror_mode": {
    "name": "ipython",
    "version": 3
   },
   "file_extension": ".py",
   "mimetype": "text/x-python",
   "name": "python",
   "nbconvert_exporter": "python",
   "pygments_lexer": "ipython3",
   "version": "3.12.4"
  }
 },
 "nbformat": 4,
 "nbformat_minor": 5
}
