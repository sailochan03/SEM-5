{
 "cells": [
  {
   "cell_type": "code",
   "execution_count": 4,
   "metadata": {},
   "outputs": [
    {
     "name": "stdout",
     "output_type": "stream",
     "text": [
      "Enter total number of students:  3\n"
     ]
    },
    {
     "name": "stdout",
     "output_type": "stream",
     "text": [
      "Enter details for student 1:\n"
     ]
    },
    {
     "name": "stdout",
     "output_type": "stream",
     "text": [
      "Enter name:  Sai\n",
      "Enter marks:  90\n"
     ]
    },
    {
     "name": "stdout",
     "output_type": "stream",
     "text": [
      "Enter details for student 2:\n"
     ]
    },
    {
     "name": "stdout",
     "output_type": "stream",
     "text": [
      "Enter name:  Deba\n",
      "Enter marks:  100\n"
     ]
    },
    {
     "name": "stdout",
     "output_type": "stream",
     "text": [
      "Enter details for student 3:\n"
     ]
    },
    {
     "name": "stdout",
     "output_type": "stream",
     "text": [
      "Enter name:  Pranab\n",
      "Enter marks:  89\n",
      "Enter student name to get marks:  Pranab\n"
     ]
    },
    {
     "name": "stdout",
     "output_type": "stream",
     "text": [
      "Pranab has secured 89.0/100\n"
     ]
    }
   ],
   "source": [
    "dict = {}\n",
    "size = int(input(\"Enter total number of students: \"))\n",
    "count = 1\n",
    "for _ in range(size):\n",
    "    print(f\"Enter details for student {count}:\" )\n",
    "    name = input(\"Enter name: \")\n",
    "    marks = float(input(\"Enter marks: \"))\n",
    "    dict[name] = marks\n",
    "    count += 1\n",
    "\n",
    "search_student = input(\"Enter student name to get marks: \")\n",
    "\n",
    "if search_student in dict:\n",
    "    print(f\"{search_student} has secured {dict[name]}/100\")\n",
    "else:\n",
    "    print(\"Student data not present in dictonary\")"
   ]
  },
  {
   "cell_type": "code",
   "execution_count": null,
   "metadata": {},
   "outputs": [],
   "source": []
  }
 ],
 "metadata": {
  "kernelspec": {
   "display_name": "Python 3",
   "language": "python",
   "name": "python3"
  },
  "language_info": {
   "codemirror_mode": {
    "name": "ipython",
    "version": 3
   },
   "file_extension": ".py",
   "mimetype": "text/x-python",
   "name": "python",
   "nbconvert_exporter": "python",
   "pygments_lexer": "ipython3",
   "version": "3.12.4"
  }
 },
 "nbformat": 4,
 "nbformat_minor": 4
}
