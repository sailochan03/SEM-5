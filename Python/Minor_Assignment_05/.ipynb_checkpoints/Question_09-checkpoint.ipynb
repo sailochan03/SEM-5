{
 "cells": [
  {
   "cell_type": "code",
   "execution_count": 6,
   "id": "032f20af-e4fe-4542-be0f-0dfd249b7cf2",
   "metadata": {},
   "outputs": [
    {
     "name": "stdout",
     "output_type": "stream",
     "text": [
      "{'m': 1, 'i': 4, 's': 4, 'p': 2}\n"
     ]
    }
   ],
   "source": [
    "str = 'mississippi'\n",
    "char_count = {}\n",
    "\n",
    "for key in str:\n",
    "    char_count[key] = char_count.get(key, 0) + 1\n",
    "\n",
    "print(char_count)"
   ]
  }
 ],
 "metadata": {
  "kernelspec": {
   "display_name": "Python 3 (ipykernel)",
   "language": "python",
   "name": "python3"
  },
  "language_info": {
   "codemirror_mode": {
    "name": "ipython",
    "version": 3
   },
   "file_extension": ".py",
   "mimetype": "text/x-python",
   "name": "python",
   "nbconvert_exporter": "python",
   "pygments_lexer": "ipython3",
   "version": "3.12.4"
  }
 },
 "nbformat": 4,
 "nbformat_minor": 5
}
