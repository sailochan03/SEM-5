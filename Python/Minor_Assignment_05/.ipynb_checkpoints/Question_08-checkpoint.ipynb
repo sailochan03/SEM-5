{
 "cells": [
  {
   "cell_type": "code",
   "execution_count": 2,
   "id": "e4b312fe-f268-438a-916b-a9624a04bc50",
   "metadata": {},
   "outputs": [
    {
     "ename": "NameError",
     "evalue": "name 'dict1' is not defined",
     "output_type": "error",
     "traceback": [
      "\u001b[1;31m---------------------------------------------------------------------------\u001b[0m",
      "\u001b[1;31mNameError\u001b[0m                                 Traceback (most recent call last)",
      "Cell \u001b[1;32mIn[2], line 1\u001b[0m\n\u001b[1;32m----> 1\u001b[0m life \u001b[38;5;241m=\u001b[39m {\u001b[38;5;124m'\u001b[39m\u001b[38;5;124manimals\u001b[39m\u001b[38;5;124m'\u001b[39m : \u001b[43mdict1\u001b[49m, \u001b[38;5;124m'\u001b[39m\u001b[38;5;124mplants\u001b[39m\u001b[38;5;124m'\u001b[39m: dict2, \u001b[38;5;124m'\u001b[39m\u001b[38;5;124mothers\u001b[39m\u001b[38;5;124m'\u001b[39m: dict3}\n\u001b[0;32m      2\u001b[0m dict1 \u001b[38;5;241m=\u001b[39m {\u001b[38;5;124m'\u001b[39m\u001b[38;5;124mcats\u001b[39m\u001b[38;5;124m'\u001b[39m:cat_list, \u001b[38;5;124m'\u001b[39m\u001b[38;5;124moctopi\u001b[39m\u001b[38;5;124m'\u001b[39m:oct_dict, \u001b[38;5;124m'\u001b[39m\u001b[38;5;124memus\u001b[39m\u001b[38;5;124m'\u001b[39m:emu_dict}\n\u001b[0;32m      3\u001b[0m cat_list \u001b[38;5;241m=\u001b[39m [\u001b[38;5;124m'\u001b[39m\u001b[38;5;124mHenri\u001b[39m\u001b[38;5;124m'\u001b[39m, \u001b[38;5;124m'\u001b[39m\u001b[38;5;124mGrumpy\u001b[39m\u001b[38;5;124m'\u001b[39m, \u001b[38;5;124m'\u001b[39m\u001b[38;5;124mLucy\u001b[39m\u001b[38;5;124m'\u001b[39m]\n",
      "\u001b[1;31mNameError\u001b[0m: name 'dict1' is not defined"
     ]
    }
   ],
   "source": [
    "life = {'animals' : {'cats':cat_list, \n",
    "                     'octopi': {}, \n",
    "                     'emus': {}}, \n",
    "        'plants': {}, \n",
    "        'others': {}}\n",
    "\n",
    "dict1 = \n",
    "cat_list = ['Henri', 'Grumpy', 'Lucy']\n",
    "dict2 = dict3 = oct_dict = emu_dict = {}\n",
    "\n"
   ]
  },
  {
   "cell_type": "code",
   "execution_count": null,
   "id": "29c32dcb-fe28-4490-b305-b8ae8dfcb333",
   "metadata": {},
   "outputs": [],
   "source": []
  }
 ],
 "metadata": {
  "kernelspec": {
   "display_name": "Python 3 (ipykernel)",
   "language": "python",
   "name": "python3"
  },
  "language_info": {
   "codemirror_mode": {
    "name": "ipython",
    "version": 3
   },
   "file_extension": ".py",
   "mimetype": "text/x-python",
   "name": "python",
   "nbconvert_exporter": "python",
   "pygments_lexer": "ipython3",
   "version": "3.12.4"
  }
 },
 "nbformat": 4,
 "nbformat_minor": 5
}
