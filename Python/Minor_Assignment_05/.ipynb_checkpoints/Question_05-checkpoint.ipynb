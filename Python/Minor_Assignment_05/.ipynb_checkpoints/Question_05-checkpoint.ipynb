{
 "cells": [
  {
   "cell_type": "code",
   "execution_count": 2,
   "id": "20e8ea16-4481-4e08-a313-9d505379500b",
   "metadata": {},
   "outputs": [
    {
     "name": "stdout",
     "output_type": "stream",
     "text": [
      "Dictonary contains 'Canada':  True\n",
      "Dictonary contains 'France':  False\n",
      "Canada : ca\n",
      "United States : us\n",
      "Mexico : mx\n",
      "After reversing key and values\n",
      "ca : Canada\n",
      "us : United States\n",
      "mx : Mexico\n",
      "se : Sweden\n"
     ]
    }
   ],
   "source": [
    "tlds = {'Canada':'ca', 'United States':'us', 'Mexico':'mx'}\n",
    "\n",
    "print(\"Dictonary contains 'Canada': \", 'Canada' in tlds) \n",
    "print(\"Dictonary contains 'France': \", 'France' in tlds)\n",
    "\n",
    "for key, value in tlds.items():\n",
    "    print(f\"{key} : {value}\")\n",
    "\n",
    "tlds['Sweden'] = 'sw'\n",
    "tlds['Sweden'] = 'se' #update the correct tld\n",
    "\n",
    "tlds = {value : key for key, value in tlds.items()}\n",
    "print(\"After reversing key and values:\")\n",
    "for key, value in tlds.items():\n",
    "    print(f\"{key} : {value}\")\n"
   ]
  },
  {
   "cell_type": "code",
   "execution_count": null,
   "id": "f5740701-6a37-4b30-aa50-e1b68200869d",
   "metadata": {},
   "outputs": [],
   "source": []
  }
 ],
 "metadata": {
  "kernelspec": {
   "display_name": "Python 3 (ipykernel)",
   "language": "python",
   "name": "python3"
  },
  "language_info": {
   "codemirror_mode": {
    "name": "ipython",
    "version": 3
   },
   "file_extension": ".py",
   "mimetype": "text/x-python",
   "name": "python",
   "nbconvert_exporter": "python",
   "pygments_lexer": "ipython3",
   "version": "3.12.4"
  }
 },
 "nbformat": 4,
 "nbformat_minor": 5
}
