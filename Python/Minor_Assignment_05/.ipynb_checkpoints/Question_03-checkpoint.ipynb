{
 "cells": [
  {
   "cell_type": "code",
   "execution_count": 2,
   "id": "d6473aca-ee44-422a-b883-adb6636c8ade",
   "metadata": {},
   "outputs": [
    {
     "name": "stdout",
     "output_type": "stream",
     "text": [
      "Enter details for dictonary: \n"
     ]
    },
    {
     "name": "stdin",
     "output_type": "stream",
     "text": [
      "Enter key (write 'exit' to stop):  1\n",
      "Enter value of the key:  A\n",
      "Enter key (write 'exit' to stop):  2\n",
      "Enter value of the key:  B\n",
      "Enter key (write 'exit' to stop):  3\n",
      "Enter value of the key:  C\n",
      "Enter key (write 'exit' to stop):  exit\n"
     ]
    },
    {
     "name": "stdout",
     "output_type": "stream",
     "text": [
      "1 : A\n",
      "2 : B\n",
      "3 : C\n"
     ]
    }
   ],
   "source": [
    "dict = {}\n",
    "print(\"Enter details for dictonary: \")\n",
    "\n",
    "while(True):\n",
    "    key = input(\"Enter key (write 'exit' to stop): \")\n",
    "    if key.lower() == 'exit':\n",
    "        break\n",
    "    value = input(\"Enter value of the key: \")\n",
    "    dict[key] = value\n",
    "\n",
    "for key, value in dict.items():\n",
    "    print(f\"{key} : {value}\")\n",
    "    "
   ]
  },
  {
   "cell_type": "code",
   "execution_count": null,
   "id": "29ccab40-621c-49ff-855e-fc3ec3329daf",
   "metadata": {},
   "outputs": [],
   "source": []
  }
 ],
 "metadata": {
  "kernelspec": {
   "display_name": "Python 3 (ipykernel)",
   "language": "python",
   "name": "python3"
  },
  "language_info": {
   "codemirror_mode": {
    "name": "ipython",
    "version": 3
   },
   "file_extension": ".py",
   "mimetype": "text/x-python",
   "name": "python",
   "nbconvert_exporter": "python",
   "pygments_lexer": "ipython3",
   "version": "3.12.4"
  }
 },
 "nbformat": 4,
 "nbformat_minor": 5
}
